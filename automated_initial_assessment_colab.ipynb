{
  "cells": [
    {
      "cell_type": "markdown",
      "source": [
        "# Enable Chromium in Colab\n",
        "\n",
        "According to this [issue](https://github.com/googlecolab/colabtools/issues/3347#issuecomment-1387453484) reply from Eric Johnson Ubuntu 20.04+ no longer distributes chromium-browser outside of a snap package, so there is a need for alternative\n",
        "\n",
        "I hate you ubuntu"
      ],
      "metadata": {
        "id": "vDxQoa-u4RO5"
      }
    },
    {
      "cell_type": "code",
      "source": [
        "# Credit to https://github.com/metrizable\n",
        "\n",
        "%%shell\n",
        "# Ubuntu no longer distributes chromium-browser outside of snap\n",
        "#\n",
        "# Proposed solution: https://askubuntu.com/questions/1204571/how-to-install-chromium-without-snap\n",
        "\n",
        "# Add debian buster\n",
        "cat > /etc/apt/sources.list.d/debian.list <<'EOF'\n",
        "deb [arch=amd64 signed-by=/usr/share/keyrings/debian-buster.gpg] http://deb.debian.org/debian buster main\n",
        "deb [arch=amd64 signed-by=/usr/share/keyrings/debian-buster-updates.gpg] http://deb.debian.org/debian buster-updates main\n",
        "deb [arch=amd64 signed-by=/usr/share/keyrings/debian-security-buster.gpg] http://deb.debian.org/debian-security buster/updates main\n",
        "EOF\n",
        "\n",
        "# Add keys\n",
        "apt-key adv --keyserver keyserver.ubuntu.com --recv-keys DCC9EFBF77E11517\n",
        "apt-key adv --keyserver keyserver.ubuntu.com --recv-keys 648ACFD622F3D138\n",
        "apt-key adv --keyserver keyserver.ubuntu.com --recv-keys 112695A0E562B32A\n",
        "\n",
        "apt-key export 77E11517 | gpg --dearmour -o /usr/share/keyrings/debian-buster.gpg\n",
        "apt-key export 22F3D138 | gpg --dearmour -o /usr/share/keyrings/debian-buster-updates.gpg\n",
        "apt-key export E562B32A | gpg --dearmour -o /usr/share/keyrings/debian-security-buster.gpg\n",
        "\n",
        "# Prefer debian repo for chromium* packages only\n",
        "# Note the double-blank lines between entries\n",
        "cat > /etc/apt/preferences.d/chromium.pref << 'EOF'\n",
        "Package: *\n",
        "Pin: release a=eoan\n",
        "Pin-Priority: 500\n",
        "\n",
        "\n",
        "Package: *\n",
        "Pin: origin \"deb.debian.org\"\n",
        "Pin-Priority: 300\n",
        "\n",
        "\n",
        "Package: chromium*\n",
        "Pin: origin \"deb.debian.org\"\n",
        "Pin-Priority: 700\n",
        "EOF\n",
        "\n",
        "# Install chromium and chromium-driver\n",
        "apt-get update\n",
        "apt-get install chromium-browser chromium-driver\n",
        "\n",
        "# Install selenium\n",
        "pip install selenium"
      ],
      "metadata": {
        "colab": {
          "base_uri": "https://localhost:8080/"
        },
        "id": "EpTDLzpey6T6",
        "outputId": "10a8d4af-579b-447e-a7df-55c5eb5ac328"
      },
      "execution_count": 41,
      "outputs": [
        {
          "output_type": "stream",
          "name": "stdout",
          "text": [
            "Executing: /tmp/apt-key-gpghome.8bQkQgfLiV/gpg.1.sh --keyserver keyserver.ubuntu.com --recv-keys DCC9EFBF77E11517\n",
            "gpg: key DCC9EFBF77E11517: \"Debian Stable Release Key (10/buster) <debian-release@lists.debian.org>\" not changed\n",
            "gpg: Total number processed: 1\n",
            "gpg:              unchanged: 1\n",
            "Executing: /tmp/apt-key-gpghome.IMG4xvKI35/gpg.1.sh --keyserver keyserver.ubuntu.com --recv-keys 648ACFD622F3D138\n",
            "gpg: key DC30D7C23CBBABEE: \"Debian Archive Automatic Signing Key (10/buster) <ftpmaster@debian.org>\" not changed\n",
            "gpg: Total number processed: 1\n",
            "gpg:              unchanged: 1\n",
            "Executing: /tmp/apt-key-gpghome.6LjJpTRE0k/gpg.1.sh --keyserver keyserver.ubuntu.com --recv-keys 112695A0E562B32A\n",
            "gpg: key 4DFAB270CAA96DFA: \"Debian Security Archive Automatic Signing Key (10/buster) <ftpmaster@debian.org>\" not changed\n",
            "gpg: Total number processed: 1\n",
            "gpg:              unchanged: 1\n",
            "gpg: cannot open '/dev/tty': No such device or address\n",
            "Warning: apt-key output should not be parsed (stdout is not a terminal)\n",
            "gpg: [stdout]: write error: Broken pipe\n",
            "gpg: filter_flush failed on close: Broken pipe\n",
            "gpg: cannot open '/dev/tty': No such device or address\n",
            "Warning: apt-key output should not be parsed (stdout is not a terminal)\n",
            "gpg: [stdout]: write error: Broken pipe\n",
            "gpg: filter_flush failed on close: Broken pipe\n",
            "gpg: cannot open '/dev/tty': No such device or address\n",
            "Warning: apt-key output should not be parsed (stdout is not a terminal)\n",
            "gpg: [stdout]: write error: Broken pipe\n",
            "gpg: filter_flush failed on close: Broken pipe\n",
            "Hit:1 http://deb.debian.org/debian buster InRelease\n",
            "Hit:2 http://deb.debian.org/debian buster-updates InRelease\n",
            "Get:3 http://deb.debian.org/debian-security buster/updates InRelease [34.8 kB]\n",
            "Hit:4 http://security.ubuntu.com/ubuntu focal-security InRelease\n",
            "Hit:5 https://developer.download.nvidia.com/compute/cuda/repos/ubuntu2004/x86_64  InRelease\n",
            "Hit:6 https://cloud.r-project.org/bin/linux/ubuntu focal-cran40/ InRelease\n",
            "Hit:7 http://archive.ubuntu.com/ubuntu focal InRelease\n",
            "Hit:8 http://ppa.launchpad.net/c2d4u.team/c2d4u4.0+/ubuntu focal InRelease\n",
            "Hit:9 http://archive.ubuntu.com/ubuntu focal-updates InRelease\n",
            "Hit:10 http://archive.ubuntu.com/ubuntu focal-backports InRelease\n",
            "Hit:11 http://ppa.launchpad.net/cran/libgit2/ubuntu focal InRelease\n",
            "Hit:12 http://ppa.launchpad.net/deadsnakes/ppa/ubuntu focal InRelease\n",
            "Hit:13 http://ppa.launchpad.net/graphics-drivers/ppa/ubuntu focal InRelease\n",
            "Hit:14 http://ppa.launchpad.net/ubuntugis/ppa/ubuntu focal InRelease\n",
            "Fetched 34.8 kB in 2s (16.6 kB/s)\n",
            "Reading package lists... Done\n",
            "Reading package lists... Done\n",
            "Building dependency tree       \n",
            "Reading state information... Done\n",
            "chromium-browser is already the newest version (1:85.0.4183.83-0ubuntu0.20.04.3).\n",
            "chromium-driver is already the newest version (90.0.4430.212-1~deb10u1).\n",
            "0 upgraded, 0 newly installed, 0 to remove and 23 not upgraded.\n",
            "Looking in indexes: https://pypi.org/simple, https://us-python.pkg.dev/colab-wheels/public/simple/\n",
            "Requirement already satisfied: selenium in /usr/local/lib/python3.9/dist-packages (4.8.2)\n",
            "Requirement already satisfied: trio~=0.17 in /usr/local/lib/python3.9/dist-packages (from selenium) (0.22.0)\n",
            "Requirement already satisfied: trio-websocket~=0.9 in /usr/local/lib/python3.9/dist-packages (from selenium) (0.10.2)\n",
            "Requirement already satisfied: certifi>=2021.10.8 in /usr/local/lib/python3.9/dist-packages (from selenium) (2022.12.7)\n",
            "Requirement already satisfied: urllib3[socks]~=1.26 in /usr/local/lib/python3.9/dist-packages (from selenium) (1.26.15)\n",
            "Requirement already satisfied: sniffio in /usr/local/lib/python3.9/dist-packages (from trio~=0.17->selenium) (1.3.0)\n",
            "Requirement already satisfied: outcome in /usr/local/lib/python3.9/dist-packages (from trio~=0.17->selenium) (1.2.0)\n",
            "Requirement already satisfied: sortedcontainers in /usr/local/lib/python3.9/dist-packages (from trio~=0.17->selenium) (2.4.0)\n",
            "Requirement already satisfied: idna in /usr/local/lib/python3.9/dist-packages (from trio~=0.17->selenium) (3.4)\n",
            "Requirement already satisfied: attrs>=19.2.0 in /usr/local/lib/python3.9/dist-packages (from trio~=0.17->selenium) (22.2.0)\n",
            "Requirement already satisfied: async-generator>=1.9 in /usr/local/lib/python3.9/dist-packages (from trio~=0.17->selenium) (1.10)\n",
            "Requirement already satisfied: exceptiongroup>=1.0.0rc9 in /usr/local/lib/python3.9/dist-packages (from trio~=0.17->selenium) (1.1.1)\n",
            "Requirement already satisfied: wsproto>=0.14 in /usr/local/lib/python3.9/dist-packages (from trio-websocket~=0.9->selenium) (1.2.0)\n",
            "Requirement already satisfied: PySocks!=1.5.7,<2.0,>=1.5.6 in /usr/local/lib/python3.9/dist-packages (from urllib3[socks]~=1.26->selenium) (1.7.1)\n",
            "Requirement already satisfied: h11<1,>=0.9.0 in /usr/local/lib/python3.9/dist-packages (from wsproto>=0.14->trio-websocket~=0.9->selenium) (0.14.0)\n"
          ]
        },
        {
          "output_type": "execute_result",
          "data": {
            "text/plain": []
          },
          "metadata": {},
          "execution_count": 41
        }
      ]
    },
    {
      "cell_type": "code",
      "execution_count": 42,
      "metadata": {
        "id": "SQ_K3bxTumlh"
      },
      "outputs": [],
      "source": [
        "import pandas as pd\n",
        "\n",
        "from selenium import webdriver\n",
        "from selenium.webdriver.chrome.service import Service\n",
        "from selenium.webdriver.common.by import By\n",
        "from selenium.webdriver.common.keys import Keys\n",
        "from selenium.webdriver.support.ui import Select\n",
        "from selenium.common.exceptions import NoSuchElementException\n",
        "from selenium.webdriver.chrome.options import Options\n",
        "import time"
      ]
    },
    {
      "cell_type": "markdown",
      "metadata": {
        "id": "ucW6OJEmumlj"
      },
      "source": [
        "# Setup and Configuration"
      ]
    },
    {
      "cell_type": "markdown",
      "metadata": {
        "id": "ST6sG_Roumlk"
      },
      "source": [
        "## Stuff that you might need to change"
      ]
    },
    {
      "cell_type": "code",
      "source": [
        "from google.colab import drive\n",
        "drive.mount('/content/drive')"
      ],
      "metadata": {
        "colab": {
          "base_uri": "https://localhost:8080/"
        },
        "id": "70dD0CUV2VEy",
        "outputId": "7749e050-fe00-4129-e5b7-5d67039b6f94"
      },
      "execution_count": 43,
      "outputs": [
        {
          "output_type": "stream",
          "name": "stdout",
          "text": [
            "Drive already mounted at /content/drive; to attempt to forcibly remount, call drive.mount(\"/content/drive\", force_remount=True).\n"
          ]
        }
      ]
    },
    {
      "cell_type": "code",
      "execution_count": 44,
      "metadata": {
        "id": "xnnFjvLvumlk"
      },
      "outputs": [],
      "source": [
        "# KM Account, your excel file\n",
        "excel_file = ''\n",
        "username = ''\n",
        "password = ''\n",
        "# chromedriver_location = r'chromedriver.exe' #download the chromedriver according to your chrome browse version\n",
        "url = \"https://mentor.kampusmerdeka.kemdikbud.go.id/login\""
      ]
    },
    {
      "cell_type": "code",
      "execution_count": 45,
      "metadata": {
        "id": "0BtFbtChumlk"
      },
      "outputs": [],
      "source": [
        "# set True for just saving to draft\n",
        "# set False for Finalize\n",
        "draft_mode = True"
      ]
    },
    {
      "cell_type": "code",
      "execution_count": 46,
      "metadata": {
        "id": "gqPXmssTumlk"
      },
      "outputs": [],
      "source": [
        "# Fill Settings\n",
        "# 0: Fill everyone\n",
        "# 1: Fill everyone with status in progress (AKA button with \"Continue Assessment\")\n",
        "fill_settings = 0\n",
        "students_fill_list = list() # change this if you want to specifically fill the assessment for certain students"
      ]
    },
    {
      "cell_type": "markdown",
      "metadata": {
        "id": "dAaov6Ckumll"
      },
      "source": [
        "# Execution"
      ]
    },
    {
      "cell_type": "markdown",
      "metadata": {
        "id": "-48B6UQkumll"
      },
      "source": [
        "## get the data from the excel file"
      ]
    },
    {
      "cell_type": "code",
      "execution_count": 47,
      "metadata": {
        "id": "bXjtIXbfumll"
      },
      "outputs": [],
      "source": [
        "df = pd.read_excel(excel_file,sheet_name='Sheet1')\n",
        "df['Student Name Reg'] = df['Student Name Reg'].str.lower()\n",
        "df_comment = pd.read_excel(excel_file,sheet_name='Machine Learning Comment')\n",
        "topic_list = list(df.columns[4:])\n"
      ]
    },
    {
      "cell_type": "markdown",
      "metadata": {
        "id": "P3FBNFyaumll"
      },
      "source": [
        "## Login and get to the page for initial assessment"
      ]
    },
    {
      "cell_type": "code",
      "execution_count": 53,
      "metadata": {
        "colab": {
          "base_uri": "https://localhost:8080/"
        },
        "id": "2GtvCEyNumlm",
        "outputId": "75e536a1-d573-4cb6-bf68-a6acaa1c1009"
      },
      "outputs": [
        {
          "output_type": "stream",
          "name": "stderr",
          "text": [
            "<ipython-input-53-d50569b3241b>:11: DeprecationWarning: use options instead of chrome_options\n",
            "  driver = webdriver.Chrome('chromedriver',chrome_options=chrome_options)\n"
          ]
        }
      ],
      "source": [
        "# Initialize the selenium driver and open the page\n",
        "# options = Options()\n",
        "#options.add_argument(\"--headless=new\")\n",
        "#options.add_argument(\"--window-size=1920,1080\")\n",
        "\n",
        "chrome_options = webdriver.ChromeOptions()\n",
        "chrome_options.add_argument('--headless')\n",
        "chrome_options.add_argument('--no-sandbox')\n",
        "chrome_options.add_argument('--disable-gpu')\n",
        "chrome_options.add_argument('--disable-dev-shm-usage')\n",
        "driver = webdriver.Chrome('chromedriver',chrome_options=chrome_options)\n",
        "\n",
        "\n",
        "# driver = webdriver.Chrome(options=options,service=Service(chromedriver_location))\n",
        "driver.get(url)"
      ]
    },
    {
      "cell_type": "code",
      "execution_count": 54,
      "metadata": {
        "id": "w_G6n7WFumlm"
      },
      "outputs": [],
      "source": [
        "# Login your stuff\n",
        "driver.find_element(By.XPATH, '//input[@type=\"email\"]').send_keys(username)\n",
        "driver.find_element(By.XPATH, '//input[@type=\"password\"]').send_keys(password)\n",
        "driver.find_element(By.XPATH, '//p[text()=\"Log In\"]').click()"
      ]
    },
    {
      "cell_type": "code",
      "execution_count": 55,
      "metadata": {
        "id": "4BP_Q-9xumlm"
      },
      "outputs": [],
      "source": [
        "# Get to the initial assessment\n",
        "time.sleep(2)\n",
        "driver.refresh()\n",
        "time.sleep(2)\n",
        "driver.find_element(By.XPATH, '//p[text()=\"Batch 4 - Studi Independen\"]').click()\n",
        "time.sleep(2)\n",
        "driver.find_element(By.XPATH, '//p[text()=\"Evaluation\"]').click()\n",
        "time.sleep(2)"
      ]
    },
    {
      "cell_type": "markdown",
      "metadata": {
        "id": "bDBd4BXOumln"
      },
      "source": [
        "## Double check the name"
      ]
    },
    {
      "cell_type": "code",
      "execution_count": 56,
      "metadata": {
        "id": "c2yjics6umln"
      },
      "outputs": [],
      "source": [
        "# apparently some of the name doesn't match\n",
        "# mine has some double spaces and typos\n",
        "name_correct = True\n",
        "for student in df['Student Name Reg']:\n",
        "    try:\n",
        "        #a little bit of rant\n",
        "        #some of the is full uppercase\n",
        "        #some is only capitalized\n",
        "        xpath = '//p[  contains(translate(., \"ABCDEFGHIJKLMNOPQRSTUVWXYZ\", \"abcdefghijklmnopqrstuvwxyz\"), \"{}\")]'.format(student)\n",
        "        child_elem_mainmenu = driver.find_element(By.XPATH, xpath)\n",
        "    except:\n",
        "        name_correct = False\n",
        "        print(\"student {} doesn't exist in Kampus Merdeka page\",student)\n"
      ]
    },
    {
      "cell_type": "markdown",
      "metadata": {
        "id": "LAVwvUsgumln"
      },
      "source": [
        "## Iterate over the students"
      ]
    },
    {
      "cell_type": "code",
      "execution_count": 58,
      "metadata": {
        "colab": {
          "base_uri": "https://localhost:8080/",
          "height": 805
        },
        "id": "Yv3oxWlDumln",
        "outputId": "92b297cb-3fc1-48a1-c820-26aab3621f70"
      },
      "outputs": [
        {
          "output_type": "error",
          "ename": "NoSuchElementException",
          "evalue": "ignored",
          "traceback": [
            "\u001b[0;31m---------------------------------------------------------------------------\u001b[0m",
            "\u001b[0;31mNoSuchElementException\u001b[0m                    Traceback (most recent call last)",
            "\u001b[0;32m<ipython-input-58-351229796cbf>\u001b[0m in \u001b[0;36m<module>\u001b[0;34m\u001b[0m\n\u001b[1;32m      5\u001b[0m         \u001b[0;31m# god knows how many hours it took to figure this out\u001b[0m\u001b[0;34m\u001b[0m\u001b[0;34m\u001b[0m\u001b[0m\n\u001b[1;32m      6\u001b[0m         \u001b[0mxpath\u001b[0m \u001b[0;34m=\u001b[0m \u001b[0;34m'//p[contains(translate(., \"ABCDEFGHIJKLMNOPQRSTUVWXYZ\", \"abcdefghijklmnopqrstuvwxyz\"), \"{}\")]'\u001b[0m\u001b[0;34m.\u001b[0m\u001b[0mformat\u001b[0m\u001b[0;34m(\u001b[0m\u001b[0mstudent\u001b[0m\u001b[0;34m)\u001b[0m\u001b[0;34m\u001b[0m\u001b[0;34m\u001b[0m\u001b[0m\n\u001b[0;32m----> 7\u001b[0;31m         \u001b[0mchild_elem_mainmenu\u001b[0m \u001b[0;34m=\u001b[0m \u001b[0mdriver\u001b[0m\u001b[0;34m.\u001b[0m\u001b[0mfind_element\u001b[0m\u001b[0;34m(\u001b[0m\u001b[0mBy\u001b[0m\u001b[0;34m.\u001b[0m\u001b[0mXPATH\u001b[0m\u001b[0;34m,\u001b[0m \u001b[0mxpath\u001b[0m\u001b[0;34m)\u001b[0m\u001b[0;34m\u001b[0m\u001b[0;34m\u001b[0m\u001b[0m\n\u001b[0m\u001b[1;32m      8\u001b[0m         \u001b[0mparent_elem_mainmenu\u001b[0m \u001b[0;34m=\u001b[0m \u001b[0mchild_elem_mainmenu\u001b[0m\u001b[0;34m.\u001b[0m\u001b[0mfind_element\u001b[0m\u001b[0;34m(\u001b[0m\u001b[0mBy\u001b[0m\u001b[0;34m.\u001b[0m\u001b[0mXPATH\u001b[0m\u001b[0;34m,\u001b[0m \u001b[0;34m\"..\"\u001b[0m\u001b[0;34m)\u001b[0m\u001b[0;34m.\u001b[0m\u001b[0mfind_element\u001b[0m\u001b[0;34m(\u001b[0m\u001b[0mBy\u001b[0m\u001b[0;34m.\u001b[0m\u001b[0mXPATH\u001b[0m\u001b[0;34m,\u001b[0m \u001b[0;34m\"..\"\u001b[0m\u001b[0;34m)\u001b[0m\u001b[0;34m\u001b[0m\u001b[0;34m\u001b[0m\u001b[0m\n\u001b[1;32m      9\u001b[0m         \u001b[0mparent_cubic\u001b[0m \u001b[0;34m=\u001b[0m \u001b[0mparent_elem_mainmenu\u001b[0m\u001b[0;34m.\u001b[0m\u001b[0mfind_element\u001b[0m\u001b[0;34m(\u001b[0m\u001b[0mBy\u001b[0m\u001b[0;34m.\u001b[0m\u001b[0mXPATH\u001b[0m\u001b[0;34m,\u001b[0m \u001b[0;34m\"..\"\u001b[0m\u001b[0;34m)\u001b[0m\u001b[0;34m\u001b[0m\u001b[0;34m\u001b[0m\u001b[0m\n",
            "\u001b[0;32m/usr/local/lib/python3.9/dist-packages/selenium/webdriver/remote/webdriver.py\u001b[0m in \u001b[0;36mfind_element\u001b[0;34m(self, by, value)\u001b[0m\n\u001b[1;32m    828\u001b[0m             \u001b[0mvalue\u001b[0m \u001b[0;34m=\u001b[0m \u001b[0;34mf'[name=\"{value}\"]'\u001b[0m\u001b[0;34m\u001b[0m\u001b[0;34m\u001b[0m\u001b[0m\n\u001b[1;32m    829\u001b[0m \u001b[0;34m\u001b[0m\u001b[0m\n\u001b[0;32m--> 830\u001b[0;31m         \u001b[0;32mreturn\u001b[0m \u001b[0mself\u001b[0m\u001b[0;34m.\u001b[0m\u001b[0mexecute\u001b[0m\u001b[0;34m(\u001b[0m\u001b[0mCommand\u001b[0m\u001b[0;34m.\u001b[0m\u001b[0mFIND_ELEMENT\u001b[0m\u001b[0;34m,\u001b[0m \u001b[0;34m{\u001b[0m\u001b[0;34m\"using\"\u001b[0m\u001b[0;34m:\u001b[0m \u001b[0mby\u001b[0m\u001b[0;34m,\u001b[0m \u001b[0;34m\"value\"\u001b[0m\u001b[0;34m:\u001b[0m \u001b[0mvalue\u001b[0m\u001b[0;34m}\u001b[0m\u001b[0;34m)\u001b[0m\u001b[0;34m[\u001b[0m\u001b[0;34m\"value\"\u001b[0m\u001b[0;34m]\u001b[0m\u001b[0;34m\u001b[0m\u001b[0;34m\u001b[0m\u001b[0m\n\u001b[0m\u001b[1;32m    831\u001b[0m \u001b[0;34m\u001b[0m\u001b[0m\n\u001b[1;32m    832\u001b[0m     \u001b[0;32mdef\u001b[0m \u001b[0mfind_elements\u001b[0m\u001b[0;34m(\u001b[0m\u001b[0mself\u001b[0m\u001b[0;34m,\u001b[0m \u001b[0mby\u001b[0m\u001b[0;34m=\u001b[0m\u001b[0mBy\u001b[0m\u001b[0;34m.\u001b[0m\u001b[0mID\u001b[0m\u001b[0;34m,\u001b[0m \u001b[0mvalue\u001b[0m\u001b[0;34m:\u001b[0m \u001b[0mOptional\u001b[0m\u001b[0;34m[\u001b[0m\u001b[0mstr\u001b[0m\u001b[0;34m]\u001b[0m \u001b[0;34m=\u001b[0m \u001b[0;32mNone\u001b[0m\u001b[0;34m)\u001b[0m \u001b[0;34m->\u001b[0m \u001b[0mList\u001b[0m\u001b[0;34m[\u001b[0m\u001b[0mWebElement\u001b[0m\u001b[0;34m]\u001b[0m\u001b[0;34m:\u001b[0m\u001b[0;34m\u001b[0m\u001b[0;34m\u001b[0m\u001b[0m\n",
            "\u001b[0;32m/usr/local/lib/python3.9/dist-packages/selenium/webdriver/remote/webdriver.py\u001b[0m in \u001b[0;36mexecute\u001b[0;34m(self, driver_command, params)\u001b[0m\n\u001b[1;32m    438\u001b[0m         \u001b[0mresponse\u001b[0m \u001b[0;34m=\u001b[0m \u001b[0mself\u001b[0m\u001b[0;34m.\u001b[0m\u001b[0mcommand_executor\u001b[0m\u001b[0;34m.\u001b[0m\u001b[0mexecute\u001b[0m\u001b[0;34m(\u001b[0m\u001b[0mdriver_command\u001b[0m\u001b[0;34m,\u001b[0m \u001b[0mparams\u001b[0m\u001b[0;34m)\u001b[0m\u001b[0;34m\u001b[0m\u001b[0;34m\u001b[0m\u001b[0m\n\u001b[1;32m    439\u001b[0m         \u001b[0;32mif\u001b[0m \u001b[0mresponse\u001b[0m\u001b[0;34m:\u001b[0m\u001b[0;34m\u001b[0m\u001b[0;34m\u001b[0m\u001b[0m\n\u001b[0;32m--> 440\u001b[0;31m             \u001b[0mself\u001b[0m\u001b[0;34m.\u001b[0m\u001b[0merror_handler\u001b[0m\u001b[0;34m.\u001b[0m\u001b[0mcheck_response\u001b[0m\u001b[0;34m(\u001b[0m\u001b[0mresponse\u001b[0m\u001b[0;34m)\u001b[0m\u001b[0;34m\u001b[0m\u001b[0;34m\u001b[0m\u001b[0m\n\u001b[0m\u001b[1;32m    441\u001b[0m             \u001b[0mresponse\u001b[0m\u001b[0;34m[\u001b[0m\u001b[0;34m\"value\"\u001b[0m\u001b[0;34m]\u001b[0m \u001b[0;34m=\u001b[0m \u001b[0mself\u001b[0m\u001b[0;34m.\u001b[0m\u001b[0m_unwrap_value\u001b[0m\u001b[0;34m(\u001b[0m\u001b[0mresponse\u001b[0m\u001b[0;34m.\u001b[0m\u001b[0mget\u001b[0m\u001b[0;34m(\u001b[0m\u001b[0;34m\"value\"\u001b[0m\u001b[0;34m,\u001b[0m \u001b[0;32mNone\u001b[0m\u001b[0;34m)\u001b[0m\u001b[0;34m)\u001b[0m\u001b[0;34m\u001b[0m\u001b[0;34m\u001b[0m\u001b[0m\n\u001b[1;32m    442\u001b[0m             \u001b[0;32mreturn\u001b[0m \u001b[0mresponse\u001b[0m\u001b[0;34m\u001b[0m\u001b[0;34m\u001b[0m\u001b[0m\n",
            "\u001b[0;32m/usr/local/lib/python3.9/dist-packages/selenium/webdriver/remote/errorhandler.py\u001b[0m in \u001b[0;36mcheck_response\u001b[0;34m(self, response)\u001b[0m\n\u001b[1;32m    243\u001b[0m                 \u001b[0malert_text\u001b[0m \u001b[0;34m=\u001b[0m \u001b[0mvalue\u001b[0m\u001b[0;34m[\u001b[0m\u001b[0;34m\"alert\"\u001b[0m\u001b[0;34m]\u001b[0m\u001b[0;34m.\u001b[0m\u001b[0mget\u001b[0m\u001b[0;34m(\u001b[0m\u001b[0;34m\"text\"\u001b[0m\u001b[0;34m)\u001b[0m\u001b[0;34m\u001b[0m\u001b[0;34m\u001b[0m\u001b[0m\n\u001b[1;32m    244\u001b[0m             \u001b[0;32mraise\u001b[0m \u001b[0mexception_class\u001b[0m\u001b[0;34m(\u001b[0m\u001b[0mmessage\u001b[0m\u001b[0;34m,\u001b[0m \u001b[0mscreen\u001b[0m\u001b[0;34m,\u001b[0m \u001b[0mstacktrace\u001b[0m\u001b[0;34m,\u001b[0m \u001b[0malert_text\u001b[0m\u001b[0;34m)\u001b[0m  \u001b[0;31m# type: ignore[call-arg]  # mypy is not smart enough here\u001b[0m\u001b[0;34m\u001b[0m\u001b[0;34m\u001b[0m\u001b[0m\n\u001b[0;32m--> 245\u001b[0;31m         \u001b[0;32mraise\u001b[0m \u001b[0mexception_class\u001b[0m\u001b[0;34m(\u001b[0m\u001b[0mmessage\u001b[0m\u001b[0;34m,\u001b[0m \u001b[0mscreen\u001b[0m\u001b[0;34m,\u001b[0m \u001b[0mstacktrace\u001b[0m\u001b[0;34m)\u001b[0m\u001b[0;34m\u001b[0m\u001b[0;34m\u001b[0m\u001b[0m\n\u001b[0m",
            "\u001b[0;31mNoSuchElementException\u001b[0m: Message: no such element: Unable to locate element: {\"method\":\"xpath\",\"selector\":\"//p[contains(translate(., \"ABCDEFGHIJKLMNOPQRSTUVWXYZ\", \"abcdefghijklmnopqrstuvwxyz\"), \"achmad fahri alhamdi\")]\"}\n  (Session info: headless chrome=90.0.4430.212)\nStacktrace:\n#0 0x557dbed167f9 <unknown>\n#1 0x557dbecb63b3 <unknown>\n#2 0x557dbe9fe016 <unknown>\n#3 0x557dbea3281e <unknown>\n#4 0x557dbea688fb <unknown>\n#5 0x557dbea55ded <unknown>\n#6 0x557dbea669e1 <unknown>\n#7 0x557dbea55c93 <unknown>\n#8 0x557dbea27ce4 <unknown>\n#9 0x557dbea294d2 <unknown>\n#10 0x557dbece2542 <unknown>\n#11 0x557dbecf1ce7 <unknown>\n#12 0x557dbecf19e4 <unknown>\n#13 0x557dbecf613a <unknown>\n#14 0x557dbecf25b9 <unknown>\n#15 0x557dbecd7e00 <unknown>\n#16 0x557dbed095d2 <unknown>\n#17 0x557dbed09778 <unknown>\n#18 0x557dbed21a1f <unknown>\n#19 0x7f6ec0fd9609 start_thread\n#20 0x7f6ec01ed133 clone\n"
          ]
        }
      ],
      "source": [
        "if name_correct:\n",
        "    for student in df['Student Name Reg']:\n",
        "        # Find the fucking assessment button for the student\n",
        "        # fuck sake i feel like there is a better way to do this\n",
        "        # god knows how many hours it took to figure this out\n",
        "        xpath = '//p[contains(translate(., \"ABCDEFGHIJKLMNOPQRSTUVWXYZ\", \"abcdefghijklmnopqrstuvwxyz\"), \"{}\")]'.format(student)\n",
        "        child_elem_mainmenu = driver.find_element(By.XPATH, xpath)\n",
        "        parent_elem_mainmenu = child_elem_mainmenu.find_element(By.XPATH, \"..\").find_element(By.XPATH, \"..\")\n",
        "        parent_cubic = parent_elem_mainmenu.find_element(By.XPATH, \"..\")\n",
        "        bunch_of_childs = parent_cubic.find_elements(By.XPATH, \"./*\")[4]\n",
        "        shitty_grandchild = bunch_of_childs.find_element(By.XPATH, \"./*\")\n",
        "        thefuckinggoddamnshittybutton = shitty_grandchild.find_element(By.XPATH, \"./div\")\n",
        "        button_text = thefuckinggoddamnshittybutton.text\n",
        "\n",
        "        # Check condition\n",
        "        if fill_settings == 0:\n",
        "            do_fill = True\n",
        "        elif fill_settings == 1 and button_text == \"Assess\":\n",
        "            do_fill = True\n",
        "        elif fill_settings == 2 and button_text == \"Continue Assessment\":\n",
        "            do_fill = True\n",
        "        elif fill_settings == 3 and student in students_fill_list:\n",
        "            do_fill = True\n",
        "        else:\n",
        "            do_fill = False\n",
        "\n",
        "        if do_fill:\n",
        "            thefuckinggoddamnshittybutton.click()\n",
        "            time.sleep(1)\n",
        "            # Get the student name and the data from df\n",
        "            student_name = driver.find_element(By.XPATH, \"//p[@class='text-0-0-26 sans-0-0-40 heading-1-0-0-51 name-0-0-450']\").text.lower()\n",
        "            current_row = df.loc[df['Student Name Reg'] == student_name]\n",
        "\n",
        "            # Fill all the score and comment\n",
        "            for topic in topic_list:\n",
        "                child_elem = driver.find_element(By.XPATH, '//p[text()=\"{}\"]'.format(topic))\n",
        "                parent_elem = child_elem.find_element(By.XPATH, \"..\")\n",
        "                textarea_elem = parent_elem.find_element(By.TAG_NAME, \"textarea\")\n",
        "\n",
        "                # Get the score and the comment\n",
        "                score = current_row[topic].values[0]\n",
        "                # I hardcoded this one because honestly not worth automating\n",
        "\n",
        "\n",
        "\n",
        "                if score >= 70:\n",
        "                    comment = df_comment.loc[df_comment['Course List'] == topic][df_comment.columns[1]]\n",
        "                elif score >= 40:\n",
        "                    comment = df_comment.loc[df_comment['Course List'] == topic][df_comment.columns[2]]\n",
        "                else: \n",
        "                    comment = df_comment.loc[df_comment['Course List'] == topic][df_comment.columns[3]]\n",
        "\n",
        "                # fill the comment\n",
        "                text_area = parent_elem.find_element(By.TAG_NAME, \"textarea\")\n",
        "                # Fucking hell, why tf text_area.clear() doesn't work as intended\n",
        "                # Alas, ctrl+a & del is the way\n",
        "                text_area.send_keys(Keys.CONTROL + \"a\")\n",
        "                text_area.send_keys(Keys.DELETE)\n",
        "                text_area.send_keys(comment.values[0])\n",
        "\n",
        "                # fill the score\n",
        "                dropdown_elem = parent_elem.find_element(By.TAG_NAME, \"select\")\n",
        "                Select(dropdown_elem).select_by_value(str(score))\n",
        "\n",
        "            # Doesn't work otherwise\n",
        "            # Save the draft or Finalize and automatically go to the evaluation page again\n",
        "            driver.execute_script(\"window.scrollTo(0, document.body.scrollHeight);\")\n",
        "            if draft_mode:\n",
        "                retry_count = 0\n",
        "                while retry_count <= 10:\n",
        "                    try:\n",
        "                        driver.find_element(By.XPATH, '//p[text()=\"Save as Draft\"]').click()\n",
        "                    except:\n",
        "                        time.sleep(1)\n",
        "                        retry_count += 1\n",
        "                        continue\n",
        "                    break\n",
        "                retry_count = 0\n",
        "                while retry_count <= 10:\n",
        "                    try:\n",
        "                        driver.find_element(By.XPATH, '//p[text()=\"OK\"]').click() # This sends you back automatically\n",
        "                    except:\n",
        "                        time.sleep(1)\n",
        "                        retry_count += 1\n",
        "                        continue\n",
        "                    break\n",
        "            \n",
        "            else:\n",
        "                pass # I haven't tried finalize hahaha\n",
        "            print(\"student {} evaluation data has been filled\".format(student))\n",
        "            time.sleep(5)\n",
        "\n"
      ]
    }
  ],
  "metadata": {
    "kernelspec": {
      "display_name": "de_fault",
      "language": "python",
      "name": "python3"
    },
    "language_info": {
      "codemirror_mode": {
        "name": "ipython",
        "version": 3
      },
      "file_extension": ".py",
      "mimetype": "text/x-python",
      "name": "python",
      "nbconvert_exporter": "python",
      "pygments_lexer": "ipython3",
      "version": "3.11.0"
    },
    "orig_nbformat": 4,
    "colab": {
      "provenance": []
    }
  },
  "nbformat": 4,
  "nbformat_minor": 0
}