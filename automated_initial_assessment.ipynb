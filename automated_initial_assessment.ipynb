{
 "cells": [
  {
   "cell_type": "code",
   "execution_count": null,
   "metadata": {},
   "outputs": [],
   "source": [
    "import pandas as pd\n",
    "\n",
    "from selenium import webdriver\n",
    "from selenium.webdriver.chrome.service import Service\n",
    "from selenium.webdriver.common.by import By\n",
    "from selenium.webdriver.common.keys import Keys\n",
    "from selenium.webdriver.support.ui import Select\n",
    "from selenium.common.exceptions import NoSuchElementException\n",
    "from selenium.webdriver.chrome.options import Options\n",
    "from selenium.webdriver.support.ui import WebDriverWait\n",
    "from selenium.webdriver.support import expected_conditions as EC\n",
    "\n",
    "import time"
   ]
  },
  {
   "attachments": {},
   "cell_type": "markdown",
   "metadata": {},
   "source": [
    "# Setup and Configuration"
   ]
  },
  {
   "attachments": {},
   "cell_type": "markdown",
   "metadata": {},
   "source": [
    "## Stuff that you might need to change"
   ]
  },
  {
   "cell_type": "code",
   "execution_count": null,
   "metadata": {},
   "outputs": [],
   "source": [
    "# Excel file stuff\n",
    "excel_file = 'ML-36.xlsx'\n",
    "data_sheet_name = 'Sheet1'\n",
    "comment_sheet_name = 'Machine Learning Comment'"
   ]
  },
  {
   "cell_type": "code",
   "execution_count": null,
   "metadata": {},
   "outputs": [],
   "source": [
    "# Kampus Merdeka stuff\n",
    "username = ''\n",
    "password = ''\n",
    "chromedriver_location = 'chromedriver.exe'\n",
    "url = \"https://mentor.kampusmerdeka.kemdikbud.go.id/login\""
   ]
  },
  {
   "cell_type": "code",
   "execution_count": null,
   "metadata": {},
   "outputs": [],
   "source": [
    "# set True for just saving to draft\n",
    "# set False for Finalize\n",
    "draft_mode = True\n",
    "approve_only = False"
   ]
  },
  {
   "cell_type": "code",
   "execution_count": null,
   "metadata": {},
   "outputs": [],
   "source": [
    "# Fill Settings\n",
    "# 0: Fill everyone\n",
    "# 1: Fill everyone that hasn't been filled yet (AKA button with \"Assess\" text)\n",
    "# 2: Fill everyone with status in progress (AKA button with \"Continue Assessment\" text)\n",
    "# 3: FIll everyone that's on the list\n",
    "fill_settings = 0\n",
    "students_fill_list = list() # change this if you want to specifically fill the assessment for certain students"
   ]
  },
  {
   "attachments": {},
   "cell_type": "markdown",
   "metadata": {},
   "source": [
    "# Execution"
   ]
  },
  {
   "attachments": {},
   "cell_type": "markdown",
   "metadata": {},
   "source": [
    "## get the data from the excel file"
   ]
  },
  {
   "cell_type": "code",
   "execution_count": null,
   "metadata": {},
   "outputs": [],
   "source": [
    "df = pd.read_excel(excel_file,sheet_name=data_sheet_name)\n",
    "df['Student Name Reg'] = df['Student Name Reg'].str.lower()\n",
    "df_comment = pd.read_excel(excel_file,sheet_name=comment_sheet_name)\n",
    "topic_list = list(df.columns[4:])\n"
   ]
  },
  {
   "attachments": {},
   "cell_type": "markdown",
   "metadata": {},
   "source": [
    "## Login and get to the page for initial assessment"
   ]
  },
  {
   "cell_type": "code",
   "execution_count": null,
   "metadata": {},
   "outputs": [],
   "source": [
    "# Initialize the selenium driver and open the page\n",
    "options = Options()\n",
    "options.add_argument(\"start-maximized\")\n",
    "options.add_argument(\"--headless=new\")\n",
    "#options.add_argument(\"user-agent=Mozilla/5.0 (Windows NT 10.0; Win64; x64) AppleWebKit/537.36 (KHTML, like Gecko) Chrome/111.0.0.0 Safari/537.36\")\n",
    "\n",
    "#options.add_argument(\"--window-size=1920,1080\")\n",
    "driver = webdriver.Chrome(options=options,service=Service(chromedriver_location))\n",
    "driver.get(url)"
   ]
  },
  {
   "cell_type": "code",
   "execution_count": null,
   "metadata": {},
   "outputs": [],
   "source": [
    "# Login your stuff\n",
    "driver.find_element(By.XPATH, '//input[@type=\"email\"]').send_keys(username)\n",
    "driver.find_element(By.XPATH, '//input[@type=\"password\"]').send_keys(password)\n",
    "driver.find_element(By.XPATH, '//p[text()=\"Log In\"]').click()"
   ]
  },
  {
   "cell_type": "code",
   "execution_count": null,
   "metadata": {},
   "outputs": [],
   "source": [
    "def goto_initial_assessment():\n",
    "    i = 0\n",
    "    while i < 10:\n",
    "        try:\n",
    "            element = WebDriverWait(driver, 2).until(\n",
    "                EC.element_to_be_clickable((By.XPATH, '//p[text()=\"Batch 4 - Studi Independen\"]'))\n",
    "            )\n",
    "            element.click()\n",
    "            break  \n",
    "        except:\n",
    "            i += 1\n",
    "            driver.refresh()\n",
    "            time.sleep(2)\n",
    "            continue\n",
    "\n",
    "    WebDriverWait(driver, 10).until(EC.element_to_be_clickable((By.XPATH, '//p[text()=\"Evaluation\"]'))).click()"
   ]
  },
  {
   "cell_type": "code",
   "execution_count": null,
   "metadata": {},
   "outputs": [],
   "source": [
    "# Get to the initial assessment\n",
    "goto_initial_assessment()"
   ]
  },
  {
   "attachments": {},
   "cell_type": "markdown",
   "metadata": {},
   "source": [
    "## Double check the name"
   ]
  },
  {
   "cell_type": "code",
   "execution_count": null,
   "metadata": {},
   "outputs": [],
   "source": [
    "name_correct = True\n",
    "# Check if the the page loads correctly while make sure \n",
    "student = df['Student Name Reg'][0]\n",
    "try:\n",
    "    #a little bit of rant\n",
    "    #some of the name is full uppercase\n",
    "    #some is only capitalized\n",
    "    xpath = '//p[  contains(translate(., \"ABCDEFGHIJKLMNOPQRSTUVWXYZ\", \"abcdefghijklmnopqrstuvwxyz\"), \"{}\")]'.format(student)\n",
    "    child_elem_mainmenu = WebDriverWait(driver, 10).until(EC.presence_of_element_located((By.XPATH, xpath)))\n",
    "except:\n",
    "    name_correct = False\n",
    "    print(\"student {} doesn't exist in Kampus Merdeka page\",student)\n",
    "\n",
    "# apparently some of the name doesn't match\n",
    "# mine has some double spaces and typos\n",
    "\n",
    "for student in df['Student Name Reg'][1:]:\n",
    "    try:\n",
    "        #a little bit of rant\n",
    "        #some of the name is full uppercase\n",
    "        #some is only capitalized\n",
    "        xpath = '//p[  contains(translate(., \"ABCDEFGHIJKLMNOPQRSTUVWXYZ\", \"abcdefghijklmnopqrstuvwxyz\"), \"{}\")]'.format(student)\n",
    "        child_elem_mainmenu = driver.find_element(By.XPATH, xpath)\n",
    "    except:\n",
    "        name_correct = False\n",
    "        print(\"student {} doesn't exist in Kampus Merdeka page\",student)\n"
   ]
  },
  {
   "attachments": {},
   "cell_type": "markdown",
   "metadata": {},
   "source": [
    "## Iterate over the students"
   ]
  },
  {
   "cell_type": "code",
   "execution_count": null,
   "metadata": {},
   "outputs": [],
   "source": [
    "if name_correct:\n",
    "    for student in df['Student Name Reg']:\n",
    "        # Find the fucking assessment button for the student\n",
    "        # fuck sake i feel like there is a better way to do this\n",
    "        # god knows how many hours it took to figure this out\n",
    "        xpath = '//p[contains(translate(., \"ABCDEFGHIJKLMNOPQRSTUVWXYZ\", \"abcdefghijklmnopqrstuvwxyz\"), \"{}\")]'.format(student)\n",
    "        #child_elem_mainmenu = driver.find_element(By.XPATH, xpath)\n",
    "        child_elem_mainmenu = WebDriverWait(driver, 10).until(EC.presence_of_element_located((By.XPATH, xpath)))\n",
    "        parent_elem_mainmenu = child_elem_mainmenu.find_element(By.XPATH, \"..\").find_element(By.XPATH, \"..\")\n",
    "        parent_cubic = parent_elem_mainmenu.find_element(By.XPATH, \"..\")\n",
    "        bunch_of_childs = parent_cubic.find_elements(By.XPATH, \"./*\")[4]\n",
    "        shitty_grandchild = bunch_of_childs.find_element(By.XPATH, \"./*\")\n",
    "        #thefuckinggoddamnshittybutton = shitty_grandchild.find_element(By.XPATH, \"./div\")\n",
    "        thefuckinggoddamnshittybutton = WebDriverWait(shitty_grandchild, 20).until(EC.element_to_be_clickable((By.XPATH, \"./div\")))\n",
    "        driver.execute_script(\"arguments[0].scrollIntoView();\", thefuckinggoddamnshittybutton)\n",
    "        button_text = thefuckinggoddamnshittybutton.text\n",
    "\n",
    "        # Check condition\n",
    "        if fill_settings == 0 and ((button_text == \"Assess\") or (button_text == \"Continue Assessment\")):\n",
    "            do_fill = True\n",
    "        elif fill_settings == 1 and button_text == \"Assess\":\n",
    "            do_fill = True\n",
    "        elif fill_settings == 2 and button_text == \"Continue Assessment\":\n",
    "            do_fill = True\n",
    "        elif fill_settings == 3 and student in students_fill_list:\n",
    "            do_fill = True\n",
    "        else:\n",
    "            do_fill = False\n",
    "\n",
    "        if do_fill and (not approve_only):\n",
    "            i = 0\n",
    "            while i < 5:\n",
    "                try:\n",
    "                    thefuckinggoddamnshittybutton.click()\n",
    "                    break\n",
    "                except:\n",
    "                    pass\n",
    "\n",
    "            if i == 5:\n",
    "                print(\"can't click the button for some reason\")\n",
    "                break\n",
    "            \n",
    "            time.sleep(1)\n",
    "            # Get the student name and the data from df\n",
    "            student_name = WebDriverWait(driver, 10).until(EC.presence_of_element_located((By.XPATH, \"//p[@class='text-0-0-26 sans-0-0-40 heading-1-0-0-51 name-0-0-450']\"))).text.lower()\n",
    "            #student_name = driver.find_element(By.XPATH, \"//p[@class='text-0-0-26 sans-0-0-40 heading-1-0-0-51 name-0-0-450']\").text.lower()\n",
    "            current_row = df.loc[df['Student Name Reg'] == student_name]\n",
    "\n",
    "            # Fill all the score and comment\n",
    "            for topic in topic_list:\n",
    "                child_elem = WebDriverWait(driver, 10).until(EC.presence_of_element_located((By.XPATH, '//p[normalize-space(text())=\"{}\"]'.format(topic))))\n",
    "                parent_elem = child_elem.find_element(By.XPATH, \"..\")\n",
    "                textarea_elem = parent_elem.find_element(By.TAG_NAME, \"textarea\")\n",
    "\n",
    "                # Get the score and the comment\n",
    "                score = current_row[topic].values[0]\n",
    "                # I hardcoded this one because honestly not worth automating\n",
    "\n",
    "\n",
    "\n",
    "                if score >= 70:\n",
    "                    comment = df_comment.loc[df_comment['Course List'] == topic][df_comment.columns[1]]\n",
    "                elif score >= 40:\n",
    "                    comment = df_comment.loc[df_comment['Course List'] == topic][df_comment.columns[2]]\n",
    "                else: \n",
    "                    comment = df_comment.loc[df_comment['Course List'] == topic][df_comment.columns[3]]\n",
    "\n",
    "                # fill the comment\n",
    "                text_area = parent_elem.find_element(By.TAG_NAME, \"textarea\")\n",
    "                # Fucking hell, why tf text_area.clear() doesn't work as intended\n",
    "                # Alas, ctrl+a & del is the way\n",
    "                text_area.send_keys(Keys.CONTROL + \"a\")\n",
    "                text_area.send_keys(Keys.DELETE)\n",
    "                text_area.send_keys(comment.values[0])\n",
    "\n",
    "                # fill the score\n",
    "                dropdown_elem = parent_elem.find_element(By.TAG_NAME, \"select\")\n",
    "                Select(dropdown_elem).select_by_value(str(score))\n",
    "\n",
    "            # Doesn't work otherwise\n",
    "            # Save the draft or Finalize and automatically go to the evaluation page again\n",
    "            driver.execute_script(\"window.scrollTo(0, document.body.scrollHeight);\")\n",
    "            if draft_mode:\n",
    "                retry_count = 0\n",
    "                while retry_count <= 10:\n",
    "                    try:\n",
    "                        driver.find_element(By.XPATH, '//p[text()=\"Save as Draft\"]').click()\n",
    "                    except:\n",
    "                        time.sleep(1)\n",
    "                        retry_count += 1\n",
    "                        continue\n",
    "                    break\n",
    "                retry_count = 0\n",
    "                while retry_count <= 10:\n",
    "                    try:\n",
    "                        driver.find_element(By.XPATH, '//p[text()=\"OK\"]').click() # This sends you back automatically\n",
    "                    except:\n",
    "                        time.sleep(1)\n",
    "                        retry_count += 1\n",
    "                        continue\n",
    "                    break\n",
    "                print(\"student {} evaluation data has been filled\".format(student))\n",
    "            else:\n",
    "                checkbox_text = \"I have made sure that the final evaluation given above is correct.\"\n",
    "                checkbox = WebDriverWait(driver, 20).until(EC.presence_of_element_located((By.XPATH, '//p[text()=\"{}\"]'.format(checkbox_text))))\n",
    "                driver.execute_script(\"arguments[0].click();\", checkbox)\n",
    "                submit_button =  WebDriverWait(driver, 20).until(EC.presence_of_element_located((By.XPATH, '//p[text()=\"Submit\"]')))\n",
    "                driver.execute_script(\"arguments[0].click();\", submit_button)\n",
    "                WebDriverWait(driver, 20).until(EC.element_to_be_clickable((By.XPATH, '//p[text()=\"OK\"]'))).click()\n",
    "                print(\"student {} evaluation data has been filled and submitted\".format(student))\n",
    "                goto_initial_assessment()\n",
    "            #time.sleep(5)\n",
    "        \n",
    "        elif do_fill and approve_only:\n",
    "            i = 0\n",
    "            while i < 5:\n",
    "                try:\n",
    "                    thefuckinggoddamnshittybutton.click()\n",
    "                    break\n",
    "                except:\n",
    "                    pass\n",
    "\n",
    "            if i == 5:\n",
    "                print(\"can't click the button for some reason\")\n",
    "                break\n",
    "\n",
    "            checkbox_text = \"I have made sure that the final evaluation given above is correct.\"\n",
    "            checkbox = WebDriverWait(driver, 20).until(EC.presence_of_element_located((By.XPATH, '//p[text()=\"{}\"]'.format(checkbox_text))))\n",
    "            driver.execute_script(\"arguments[0].click();\", checkbox)\n",
    "            submit_button =  WebDriverWait(driver, 20).until(EC.presence_of_element_located((By.XPATH, '//p[text()=\"Submit\"]')))\n",
    "            driver.execute_script(\"arguments[0].click();\", submit_button)\n",
    "            WebDriverWait(driver, 20).until(EC.element_to_be_clickable((By.XPATH, '//p[text()=\"OK\"]'))).click()\n",
    "            print(\"student {} evaluation data has been submitted\".format(student))\n",
    "            goto_initial_assessment()\n"
   ]
  },
  {
   "cell_type": "code",
   "execution_count": null,
   "metadata": {},
   "outputs": [],
   "source": [
    "driver.close()"
   ]
  }
 ],
 "metadata": {
  "kernelspec": {
   "display_name": "de_fault",
   "language": "python",
   "name": "python3"
  },
  "language_info": {
   "codemirror_mode": {
    "name": "ipython",
    "version": 3
   },
   "file_extension": ".py",
   "mimetype": "text/x-python",
   "name": "python",
   "nbconvert_exporter": "python",
   "pygments_lexer": "ipython3",
   "version": "3.11.0"
  },
  "orig_nbformat": 4
 },
 "nbformat": 4,
 "nbformat_minor": 2
}
